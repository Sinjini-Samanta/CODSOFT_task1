{
  "nbformat": 4,
  "nbformat_minor": 0,
  "metadata": {
    "colab": {
      "provenance": []
    },
    "kernelspec": {
      "name": "python3",
      "display_name": "Python 3"
    },
    "language_info": {
      "name": "python"
    }
  },
  "cells": [
    {
      "cell_type": "code",
      "execution_count": 1,
      "metadata": {
        "colab": {
          "base_uri": "https://localhost:8080/"
        },
        "id": "L6u-PyNMHOPd",
        "outputId": "4011085e-2a74-481b-da9d-b972130235ea"
      },
      "outputs": [
        {
          "output_type": "stream",
          "name": "stdout",
          "text": [
            "Enter the first number: 5\n",
            "Enter the second number: 6\n",
            "--------------CALCULATOR----------\n",
            "Enter\n",
            "1.Addition\n",
            "2.Substruction\n",
            "3.Multiplication\n",
            "4.Division\n",
            "Enter your choice of operation: 1\n",
            "The solution is: \n",
            "11\n"
          ]
        }
      ],
      "source": [
        "#Call a function name Calculator\n",
        "def calculator(n1,n2):\n",
        "    print(\"--------------CALCULATOR----------\")\n",
        "    #Enter the choice of operations\n",
        "    print(\"Enter\\n1.Addition\\n2.Substruction\\n3.Multiplication\\n4.Division\")\n",
        "    ch=int(input(\"Enter your choice of operation: \"))\n",
        "    print(\"The solution is: \")\n",
        "    #different cases\n",
        "    match ch:\n",
        "        case 1:\n",
        "            sum= n1+n2\n",
        "            print(sum)\n",
        "        case 2:\n",
        "            substruction= n1-n2\n",
        "            print(substruction)\n",
        "        case 3:\n",
        "            multiply= n1*n2\n",
        "            print(multiply)\n",
        "        case 4:\n",
        "            division= n1/n2\n",
        "            print(division)\n",
        "        case _ :\n",
        "            print(\"Enter correct choice\")\n",
        "\n",
        "#Taking input from user\n",
        "n1=int(input(\"Enter the first number: \"))\n",
        "n2=int(input(\"Enter the second number: \"))\n",
        "#Call the function\n",
        "calculator(n1,n2)"
      ]
    }
  ]
}